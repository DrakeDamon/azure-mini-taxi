{
 "cells": [
  {
   "cell_type": "code",
   "execution_count": 0,
   "metadata": {
    "application/vnd.databricks.v1+cell": {
     "cellMetadata": {
      "byteLimit": 2048000,
      "rowLimit": 10000
     },
     "inputWidgets": {},
     "nuid": "98a0bde8-6784-47b5-8c71-7d6364124d1d",
     "showTitle": false,
     "tableResultSettingsMap": {},
     "title": ""
    }
   },
   "outputs": [],
   "source": [
    "# --- ADLS OAuth via Databricks secrets (scope: adls-oauth) ---\n",
    "ACCOUNT = \"sttaxistorage\"  # your storage\n",
    "\n",
    "spark.conf.set(f\"fs.azure.account.auth.type.{ACCOUNT}.dfs.core.windows.net\", \"OAuth\")\n",
    "spark.conf.set(f\"fs.azure.account.oauth.provider.type.{ACCOUNT}.dfs.core.windows.net\",\n",
    "               \"org.apache.hadoop.fs.azurebfs.oauth2.ClientCredsTokenProvider\")\n",
    "\n",
    "spark.conf.set(f\"fs.azure.account.oauth2.client.id.{ACCOUNT}.dfs.core.windows.net\",\n",
    "               dbutils.secrets.get(\"adls-oauth\", \"app-id\"))\n",
    "spark.conf.set(f\"fs.azure.account.oauth2.client.secret.{ACCOUNT}.dfs.core.windows.net\",\n",
    "               dbutils.secrets.get(\"adls-oauth\", \"app-secret\"))\n",
    "spark.conf.set(f\"fs.azure.account.oauth2.client.endpoint.{ACCOUNT}.dfs.core.windows.net\",\n",
    "               f\"https://login.microsoftonline.com/{dbutils.secrets.get('adls-oauth','tenant-id')}/oauth2/token\")\n",
    "\n",
    "STORAGE   = ACCOUNT\n",
    "CONTAINER = \"taxi\"\n",
    "RAW_DIR   = f\"abfss://{CONTAINER}@{STORAGE}.dfs.core.windows.net/raw/\"\n",
    "DELTA_BASE= f\"abfss://{CONTAINER}@{STORAGE}.dfs.core.windows.net/delta/\""
   ]
  },
  {
   "cell_type": "code",
   "execution_count": 0,
   "metadata": {
    "application/vnd.databricks.v1+cell": {
     "cellMetadata": {
      "byteLimit": 2048000,
      "rowLimit": 10000
     },
     "inputWidgets": {},
     "nuid": "321cc6de-111d-40f0-903b-9c6cb4ab952e",
     "showTitle": false,
     "tableResultSettingsMap": {},
     "title": ""
    }
   },
   "outputs": [
    {
     "output_type": "stream",
     "name": "stdout",
     "output_type": "stream",
     "text": [
      "Wrote 869349 bytes.\n"
     ]
    },
    {
     "output_type": "display_data",
     "data": {
      "text/html": [
       "<style scoped>\n",
       "  .table-result-container {\n",
       "    max-height: 300px;\n",
       "    overflow: auto;\n",
       "  }\n",
       "  table, th, td {\n",
       "    border: 1px solid black;\n",
       "    border-collapse: collapse;\n",
       "  }\n",
       "  th, td {\n",
       "    padding: 5px;\n",
       "  }\n",
       "  th {\n",
       "    text-align: left;\n",
       "  }\n",
       "</style><div class='table-result-container'><table class='table-result'><thead style='background-color: white'><tr><th>path</th><th>name</th><th>size</th><th>modificationTime</th></tr></thead><tbody><tr><td>abfss://taxi@sttaxistorage.dfs.core.windows.net/raw/taxis_20250828.csv</td><td>taxis_20250828.csv</td><td>869349</td><td>1756429845000</td></tr></tbody></table></div>"
      ]
     },
     "metadata": {
      "application/vnd.databricks.v1+output": {
       "addedWidgets": {},
       "aggData": [],
       "aggError": "",
       "aggOverflow": false,
       "aggSchema": [],
       "aggSeriesLimitReached": false,
       "aggType": "",
       "arguments": {},
       "columnCustomDisplayInfos": {},
       "data": [
        [
         "abfss://taxi@sttaxistorage.dfs.core.windows.net/raw/taxis_20250828.csv",
         "taxis_20250828.csv",
         869349,
         1756429845000
        ]
       ],
       "datasetInfos": [],
       "dbfsResultPath": null,
       "isJsonSchema": true,
       "metadata": {},
       "overflow": false,
       "plotOptions": {
        "customPlotOptions": {},
        "displayType": "table",
        "pivotAggregation": null,
        "pivotColumns": null,
        "xColumns": null,
        "yColumns": null
       },
       "removedWidgets": [],
       "schema": [
        {
         "metadata": "{}",
         "name": "path",
         "type": "\"string\""
        },
        {
         "metadata": "{}",
         "name": "name",
         "type": "\"string\""
        },
        {
         "metadata": "{}",
         "name": "size",
         "type": "\"long\""
        },
        {
         "metadata": "{}",
         "name": "modificationTime",
         "type": "\"long\""
        }
       ],
       "type": "table"
      }
     },
     "output_type": "display_data"
    }
   ],
   "source": [
    "import urllib.request\n",
    "url = \"https://raw.githubusercontent.com/mwaskom/seaborn-data/master/taxis.csv\"\n",
    "data = urllib.request.urlopen(url).read().decode(\"utf-8\")\n",
    "dbutils.fs.put(\"dbfs:/tmp/taxis.csv\", data, True)\n",
    "dbutils.fs.cp(\"dbfs:/tmp/taxis.csv\", \"abfss://taxi@sttaxistorage.dfs.core.windows.net/raw/taxis_20250828.csv\")\n",
    "display(dbutils.fs.ls(\"abfss://taxi@sttaxistorage.dfs.core.windows.net/raw/\"))\n"
   ]
  },
  {
   "cell_type": "code",
   "execution_count": 0,
   "metadata": {
    "application/vnd.databricks.v1+cell": {
     "cellMetadata": {
      "byteLimit": 2048000,
      "rowLimit": 10000
     },
     "inputWidgets": {},
     "nuid": "7ab90de0-d5c5-4241-a593-3c31507a9b7f",
     "showTitle": false,
     "tableResultSettingsMap": {},
     "title": ""
    }
   },
   "outputs": [
    {
     "output_type": "stream",
     "name": "stdout",
     "output_type": "stream",
     "text": [
      "✅ RAW exists & readable | files=1 rows=6433\n✅ BRONZE Delta written | rows=6433 @ abfss://taxi@sttaxistorage.dfs.core.windows.net/delta/bronze/taxis\n✅ SILVER Delta written | rows=6433 @ abfss://taxi@sttaxistorage.dfs.core.windows.net/delta/silver/taxis\n\nRESULT: ✅ PASS\n"
     ]
    }
   ],
   "source": [
    "# ✅ Validation cell — run AFTER your secrets-based Spark config cell\n",
    "# Checks: RAW file exists/readable, writes BRONZE/SILVER Delta, prints a PASS/FAIL summary.\n",
    "\n",
    "from pyspark.sql import functions as F\n",
    "\n",
    "ACCOUNT = \"sttaxistorage\"\n",
    "CONTAINER = \"taxi\"\n",
    "RAW_DIR    = f\"abfss://{CONTAINER}@{ACCOUNT}.dfs.core.windows.net/raw/\"\n",
    "DELTA_BASE = f\"abfss://{CONTAINER}@{ACCOUNT}.dfs.core.windows.net/delta/\"\n",
    "bronze_path = DELTA_BASE + \"bronze/taxis\"\n",
    "silver_path = DELTA_BASE + \"silver/taxis\"\n",
    "\n",
    "def _exists(path: str) -> bool:\n",
    "    try:\n",
    "        dbutils.fs.ls(path)\n",
    "        return True\n",
    "    except Exception:\n",
    "        return False\n",
    "\n",
    "def _list_names(path: str):\n",
    "    try:\n",
    "        return [f.name for f in dbutils.fs.ls(path)]\n",
    "    except Exception:\n",
    "        return []\n",
    "\n",
    "# ---- RAW cleanup + read (no glob) ----\n",
    "# Clean up any junk names once, then read only clean CSVs\n",
    "bad = [f.path for f in dbutils.fs.ls(RAW_DIR) if (':bad' in f.name) or ('@{' in f.name)]\n",
    "for p in bad: dbutils.fs.rm(p, True)\n",
    "\n",
    "all_files = dbutils.fs.ls(RAW_DIR)\n",
    "good_paths = [f.path for f in all_files\n",
    "              if f.name.lower().startswith(\"taxis_\") and f.name.lower().endswith(\".csv\")]\n",
    "\n",
    "if not good_paths:\n",
    "    raise Exception(f\"No CSVs in {RAW_DIR}. Run ADF pipeline pl_ingest_transform to land one.\")\n",
    "\n",
    "raw_files = [p.split('/')[-1] for p in good_paths]\n",
    "raw_ok = True\n",
    "\n",
    "raw_rows, raw_err = None, None\n",
    "try:\n",
    "    raw_df = spark.read.option(\"header\", True).csv(good_paths)\n",
    "    raw_rows = raw_df.count()\n",
    "    raw_ok = raw_rows > 0\n",
    "except Exception as e:\n",
    "    raw_err = str(e)[:300]\n",
    "    raw_ok = False\n",
    "\n",
    "# ---- BRONZE ----\n",
    "bronze_rows, bronze_ok, bronze_err = None, False, None\n",
    "try:\n",
    "    if not _exists(bronze_path):\n",
    "        if raw_rows is None:\n",
    "            # Fallback to clean read if not already loaded\n",
    "            all_files = dbutils.fs.ls(RAW_DIR)\n",
    "            good_paths = [f.path for f in all_files\n",
    "                          if f.name.lower().startswith(\"taxis_\") and f.name.lower().endswith(\".csv\")]\n",
    "            if not good_paths:\n",
    "                raise Exception(f\"No CSVs in {RAW_DIR}. Run ADF pipeline pl_ingest_transform to land one.\")\n",
    "            raw_df = spark.read.option(\"header\", True).csv(good_paths)\n",
    "            raw_rows = raw_df.count()\n",
    "        (raw_df.write.mode(\"overwrite\").format(\"delta\").save(bronze_path))\n",
    "    bronze_rows = spark.read.format(\"delta\").load(bronze_path).count()\n",
    "    bronze_ok = bronze_rows > 0\n",
    "except Exception as e:\n",
    "    bronze_err = str(e)[:300]\n",
    "    bronze_ok = False\n",
    "\n",
    "# ---- SILVER ----\n",
    "silver_rows, silver_ok, silver_err = None, False, None\n",
    "try:\n",
    "    if raw_rows is None:\n",
    "        all_files = dbutils.fs.ls(RAW_DIR)\n",
    "        good_paths = [f.path for f in all_files\n",
    "                      if f.name.lower().startswith(\"taxis_\") and f.name.lower().endswith(\".csv\")]\n",
    "        if not good_paths:\n",
    "            raise Exception(f\"No CSVs in {RAW_DIR}. Run ADF pipeline pl_ingest_transform to land one.\")\n",
    "        raw_df = spark.read.option(\"header\", True).csv(good_paths)\n",
    "        raw_rows = raw_df.count()\n",
    "    silver_df = (\n",
    "        raw_df.select(\n",
    "            F.col(\"pickup\").alias(\"pickup_ts\"),\n",
    "            F.col(\"dropoff\").alias(\"dropoff_ts\"),\n",
    "            F.col(\"distance\").cast(\"double\").alias(\"trip_distance\"),\n",
    "            F.col(\"fare\").cast(\"double\").alias(\"fare_amount\"),\n",
    "            F.col(\"tip\").cast(\"double\").alias(\"tip_amount\"),\n",
    "            F.col(\"tolls\").cast(\"double\").alias(\"tolls_amount\"),\n",
    "            F.when(F.col(\"payment\").isin(\"cash\",\"credit\"), F.initcap(\"payment\"))\n",
    "             .otherwise(F.lit(\"Other\")).alias(\"payment_type\")\n",
    "        ).na.drop(subset=[\"trip_distance\",\"fare_amount\"])\n",
    "    )\n",
    "    (silver_df.write.mode(\"overwrite\").format(\"delta\").save(silver_path))\n",
    "    silver_rows = spark.read.format(\"delta\").load(silver_path).count()\n",
    "    silver_ok = silver_rows > 0\n",
    "except Exception as e:\n",
    "    silver_err = str(e)[:300]\n",
    "    silver_ok = False\n",
    "\n",
    "mark = lambda ok: \"✅\" if ok else \"❌\"\n",
    "print(f\"{mark(raw_ok)} RAW exists & readable | files={len(raw_files)} rows={raw_rows if raw_rows is not None else 'n/a'}\")\n",
    "print(f\"{mark(bronze_ok)} BRONZE Delta written | rows={bronze_rows if bronze_rows is not None else 'n/a'} @ {bronze_path}\")\n",
    "print(f\"{mark(silver_ok)} SILVER Delta written | rows={silver_rows if silver_rows is not None else 'n/a'} @ {silver_path}\")\n",
    "\n",
    "overall = raw_ok and bronze_ok and silver_ok\n",
    "print(\"\\nRESULT:\", \"✅ PASS\" if overall else \"❌ CHECK ABOVE\")\n",
    "if not overall:\n",
    "    if raw_err:    print(\"RAW error:\", raw_err)\n",
    "    if bronze_err: print(\"BRONZE error:\", bronze_err)\n",
    "    if silver_err: print(\"SILVER error:\", silver_err)"
   ]
  },
  {
   "cell_type": "code",
   "execution_count": 0,
   "metadata": {
    "application/vnd.databricks.v1+cell": {
     "cellMetadata": {
      "byteLimit": 2048000,
      "rowLimit": 10000
     },
     "inputWidgets": {},
     "nuid": "978d099b-c6c0-42f4-8832-295a0974217e",
     "showTitle": false,
     "tableResultSettingsMap": {},
     "title": ""
    }
   },
   "outputs": [
    {
     "output_type": "stream",
     "name": "stdout",
     "output_type": "stream",
     "text": [
      "Data quality WARN → trip_distance_positive:51 (continuing) ✅\nsilver rows: 6382\n"
     ]
    }
   ],
   "source": [
    "# ---- Data Quality (normalized, strict/warn toggle) ----\n",
    "from pyspark.sql import functions as F\n",
    "\n",
    "# 0) Ensure raw_df is available\n",
    "try:\n",
    "    raw_df\n",
    "except NameError:\n",
    "    all_files = dbutils.fs.ls(RAW_DIR)\n",
    "    good_paths = [f.path for f in all_files\n",
    "                  if f.name.lower().startswith(\"taxis_\") and f.name.lower().endswith(\".csv\")]\n",
    "    if not good_paths:\n",
    "        raise Exception(f\"No CSVs in {RAW_DIR}. Run ADF pipeline pl_ingest_transform to land one.\")\n",
    "    raw_df = spark.read.option(\"header\", True).csv(good_paths)\n",
    "\n",
    "# 1) Normalize & type-cast first\n",
    "dq_df = (\n",
    "    raw_df\n",
    "    .withColumn(\"distance_d\", F.col(\"distance\").cast(\"double\"))\n",
    "    .withColumn(\"fare_d\",     F.col(\"fare\").cast(\"double\"))\n",
    "    .withColumn(\"payment_raw\", F.lower(F.trim(F.col(\"payment\"))))\n",
    "    .withColumn(\n",
    "        \"payment_norm\",\n",
    "        F.when(F.col(\"payment_raw\").like(\"%credit%\"), \"credit\")\n",
    "         .when(F.col(\"payment_raw\") == \"cash\", \"cash\")\n",
    "         .otherwise(\"other\")\n",
    "    )\n",
    ")\n",
    "\n",
    "# 2) Checks on normalized columns\n",
    "checks = {\n",
    "    \"trip_distance_positive\": (F.col(\"distance_d\") > 0),\n",
    "    \"fare_nonnegative\":       (F.col(\"fare_d\") >= 0),\n",
    "    \"payment_type_allowed\":   (F.col(\"payment_norm\").isin(\"cash\",\"credit\",\"other\"))\n",
    "}\n",
    "\n",
    "violations = []\n",
    "for name, expr in checks.items():\n",
    "    cnt = dq_df.filter(~expr | expr.isNull()).count()\n",
    "    if cnt > 0:\n",
    "        violations.append((name, cnt))\n",
    "\n",
    "# 3) strict fail vs warn\n",
    "STRICT_DQ = False  # set True to make ADF fail & fire alert\n",
    "if violations:\n",
    "    msg = \" | \".join([f\"{n}:{c}\" for n,c in violations])\n",
    "    if STRICT_DQ:\n",
    "        raise Exception(f\"Data quality failed → {msg}\")\n",
    "    else:\n",
    "        print(f\"Data quality WARN → {msg} (continuing) ✅\")\n",
    "else:\n",
    "    print(\"Data quality ✅ — all checks passed\")\n",
    "\n",
    "# 4) Use only valid rows for Silver\n",
    "valid_df = dq_df.filter(\n",
    "    (F.col(\"distance_d\") > 0) &\n",
    "    (F.col(\"fare_d\") >= 0)\n",
    ")\n",
    "\n",
    "# Write Silver using normalized columns (idempotent overwrite)\n",
    "silver_df = (\n",
    "    valid_df.select(\n",
    "        F.col(\"pickup\").alias(\"pickup_ts\"),\n",
    "        F.col(\"dropoff\").alias(\"dropoff_ts\"),\n",
    "        F.col(\"distance_d\").alias(\"trip_distance\"),\n",
    "        F.col(\"fare_d\").alias(\"fare_amount\"),\n",
    "        F.col(\"tip\").cast(\"double\").alias(\"tip_amount\"),\n",
    "        F.col(\"tolls\").cast(\"double\").alias(\"tolls_amount\"),\n",
    "        F.initcap(F.col(\"payment_norm\")).alias(\"payment_type\")\n",
    "    )\n",
    ")\n",
    "silver_path = DELTA_BASE + \"silver/taxis\"\n",
    "silver_df.write.mode(\"overwrite\").format(\"delta\").save(silver_path)\n",
    "print(\"silver rows:\", spark.read.format(\"delta\").load(silver_path).count())"
   ]
  },
  {
   "cell_type": "code",
   "execution_count": 0,
   "metadata": {
    "application/vnd.databricks.v1+cell": {
     "cellMetadata": {
      "byteLimit": 2048000,
      "rowLimit": 10000
     },
     "inputWidgets": {},
     "nuid": "6dd76777-c41a-418a-838a-1db516bd382c",
     "showTitle": false,
     "tableResultSettingsMap": {},
     "title": ""
    }
   },
   "outputs": [
    {
     "output_type": "stream",
     "name": "stdout",
     "output_type": "stream",
     "text": [
      "Hive metastore tables created successfully\n"
     ]
    }
   ],
   "source": [
    "# Create Hive metastore tables\n",
    "spark.sql(\"CREATE DATABASE IF NOT EXISTS default\")\n",
    "\n",
    "spark.sql(\"\"\"\n",
    "CREATE TABLE IF NOT EXISTS hive_metastore.default.bronze_taxis\n",
    "USING DELTA\n",
    "LOCATION 'abfss://taxi@sttaxistorage.dfs.core.windows.net/delta/bronze/taxis'\n",
    "\"\"\")\n",
    "\n",
    "spark.sql(\"\"\"\n",
    "CREATE TABLE IF NOT EXISTS hive_metastore.default.silver_taxis\n",
    "USING DELTA\n",
    "LOCATION 'abfss://taxi@sttaxistorage.dfs.core.windows.net/delta/silver/taxis'\n",
    "\"\"\")\n",
    "\n",
    "print(\"Hive metastore tables created successfully\")\n",
    "\n",
    "# Test comment to trigger GitHub Actions workflow"
   ]
  }
 ],
 "metadata": {
  "application/vnd.databricks.v1+notebook": {
   "computePreferences": null,
   "dashboards": [],
   "environmentMetadata": null,
   "inputWidgetPreferences": null,
   "language": "python",
   "notebookMetadata": {
    "pythonIndentUnit": 4
   },
   "notebookName": "bronze_silver",
   "widgets": {}
  },
  "language_info": {
   "name": "python"
  }
 },
 "nbformat": 4,
 "nbformat_minor": 0
}