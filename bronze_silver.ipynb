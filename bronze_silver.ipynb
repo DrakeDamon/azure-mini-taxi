{
 "cells": [
  {
   "cell_type": "code",
   "execution_count": 0,
   "metadata": {
    "application/vnd.databricks.v1+cell": {
     "cellMetadata": {
      "byteLimit": 2048000,
      "rowLimit": 10000
     },
     "inputWidgets": {},
     "nuid": "7410b900-4cc4-48d5-ac06-3682802cdc8f",
     "showTitle": false,
     "tableResultSettingsMap": {},
     "title": ""
    }
   },
   "outputs": [],
   "source": [
    "# --- ADLS OAuth via Databricks secrets (scope: adls-oauth) ---\n",
    "ACCOUNT = \"sttaxistorage\"  # your storage\n",
    "\n",
    "spark.conf.set(f\"fs.azure.account.auth.type.{ACCOUNT}.dfs.core.windows.net\", \"OAuth\")\n",
    "spark.conf.set(f\"fs.azure.account.oauth.provider.type.{ACCOUNT}.dfs.core.windows.net\",\n",
    "               \"org.apache.hadoop.fs.azurebfs.oauth2.ClientCredsTokenProvider\")\n",
    "\n",
    "spark.conf.set(f\"fs.azure.account.oauth2.client.id.{ACCOUNT}.dfs.core.windows.net\",\n",
    "               dbutils.secrets.get(\"adls-oauth\", \"app-id\"))\n",
    "spark.conf.set(f\"fs.azure.account.oauth2.client.secret.{ACCOUNT}.dfs.core.windows.net\",\n",
    "               dbutils.secrets.get(\"adls-oauth\", \"app-secret\"))\n",
    "spark.conf.set(f\"fs.azure.account.oauth2.client.endpoint.{ACCOUNT}.dfs.core.windows.net\",\n",
    "               f\"https://login.microsoftonline.com/{dbutils.secrets.get('adls-oauth','tenant-id')}/oauth2/token\")\n",
    "\n",
    "STORAGE   = ACCOUNT\n",
    "CONTAINER = \"taxi\"\n",
    "RAW_DIR   = f\"abfss://{CONTAINER}@{STORAGE}.dfs.core.windows.net/raw/\"\n",
    "DELTA_BASE= f\"abfss://{CONTAINER}@{STORAGE}.dfs.core.windows.net/delta/\"\n"
   ]
  },
  {
   "cell_type": "code",
   "execution_count": 0,
   "metadata": {
    "application/vnd.databricks.v1+cell": {
     "cellMetadata": {
      "byteLimit": 2048000,
      "rowLimit": 10000
     },
     "inputWidgets": {},
     "nuid": "ff7d1930-a7ea-4cbd-8910-9b5ebcd9f5b0",
     "showTitle": false,
     "tableResultSettingsMap": {},
     "title": ""
    }
   },
   "outputs": [
    {
     "output_type": "stream",
     "name": "stdout",
     "output_type": "stream",
     "text": [
      "✅ RAW exists & readable | files=1 rows=6433\n✅ BRONZE Delta written | rows=6433 @ abfss://taxi@sttaxistorage.dfs.core.windows.net/delta/bronze/taxis\n✅ SILVER Delta written | rows=6433 @ abfss://taxi@sttaxistorage.dfs.core.windows.net/delta/silver/taxis\n\nRESULT: ✅ PASS\n"
     ]
    }
   ],
   "source": [
    "# ✅ Validation cell — run AFTER your secrets-based Spark config cell\n",
    "# Checks: RAW file exists/readable, writes BRONZE/SILVER Delta, prints a PASS/FAIL summary.\n",
    "\n",
    "from pyspark.sql import functions as F\n",
    "\n",
    "ACCOUNT = \"sttaxistorage\"\n",
    "CONTAINER = \"taxi\"\n",
    "RAW_DIR    = f\"abfss://{CONTAINER}@{ACCOUNT}.dfs.core.windows.net/raw/\"\n",
    "DELTA_BASE = f\"abfss://{CONTAINER}@{ACCOUNT}.dfs.core.windows.net/delta/\"\n",
    "bronze_path = DELTA_BASE + \"bronze/taxis\"\n",
    "silver_path = DELTA_BASE + \"silver/taxis\"\n",
    "\n",
    "def _exists(path: str) -> bool:\n",
    "    try:\n",
    "        dbutils.fs.ls(path)\n",
    "        return True\n",
    "    except Exception:\n",
    "        return False\n",
    "\n",
    "def _list_names(path: str):\n",
    "    try:\n",
    "        return [f.name for f in dbutils.fs.ls(path)]\n",
    "    except Exception:\n",
    "        return []\n",
    "\n",
    "# ---- RAW checks ----\n",
    "raw_files = [n for n in _list_names(RAW_DIR) if n.startswith(\"taxis_\") and n.endswith(\".csv\")]\n",
    "raw_ok = len(raw_files) > 0\n",
    "\n",
    "raw_rows = None\n",
    "raw_err = None\n",
    "if raw_ok:\n",
    "    try:\n",
    "        raw_df = spark.read.option(\"header\", True).csv(RAW_DIR + \"taxis_*.csv\")\n",
    "        raw_rows = raw_df.count()\n",
    "        raw_ok = raw_rows > 0\n",
    "    except Exception as e:\n",
    "        raw_err = str(e)[:300]\n",
    "        raw_ok = False\n",
    "\n",
    "# ---- BRONZE ----\n",
    "bronze_rows, bronze_ok, bronze_err = None, False, None\n",
    "try:\n",
    "    if not _exists(bronze_path):\n",
    "        if raw_rows is None:\n",
    "            raw_df = spark.read.option(\"header\", True).csv(RAW_DIR + \"taxis_*.csv\")\n",
    "            raw_rows = raw_df.count()\n",
    "        (raw_df.write.mode(\"overwrite\").format(\"delta\").save(bronze_path))\n",
    "    bronze_rows = spark.read.format(\"delta\").load(bronze_path).count()\n",
    "    bronze_ok = bronze_rows > 0\n",
    "except Exception as e:\n",
    "    bronze_err = str(e)[:300]\n",
    "    bronze_ok = False\n",
    "\n",
    "# ---- SILVER ----\n",
    "silver_rows, silver_ok, silver_err = None, False, None\n",
    "try:\n",
    "    if raw_rows is None:\n",
    "        raw_df = spark.read.option(\"header\", True).csv(RAW_DIR + \"taxis_*.csv\")\n",
    "        raw_rows = raw_df.count()\n",
    "    silver_df = (\n",
    "        raw_df.select(\n",
    "            F.col(\"pickup\").alias(\"pickup_ts\"),\n",
    "            F.col(\"dropoff\").alias(\"dropoff_ts\"),\n",
    "            F.col(\"distance\").cast(\"double\").alias(\"trip_distance\"),\n",
    "            F.col(\"fare\").cast(\"double\").alias(\"fare_amount\"),\n",
    "            F.col(\"tip\").cast(\"double\").alias(\"tip_amount\"),\n",
    "            F.col(\"tolls\").cast(\"double\").alias(\"tolls_amount\"),\n",
    "            F.when(F.col(\"payment\").isin(\"cash\",\"credit\"), F.initcap(\"payment\"))\n",
    "             .otherwise(F.lit(\"Other\")).alias(\"payment_type\")\n",
    "        ).na.drop(subset=[\"trip_distance\",\"fare_amount\"])\n",
    "    )\n",
    "    (silver_df.write.mode(\"overwrite\").format(\"delta\").save(silver_path))\n",
    "    silver_rows = spark.read.format(\"delta\").load(silver_path).count()\n",
    "    silver_ok = silver_rows > 0\n",
    "except Exception as e:\n",
    "    silver_err = str(e)[:300]\n",
    "    silver_ok = False\n",
    "\n",
    "mark = lambda ok: \"✅\" if ok else \"❌\"\n",
    "print(f\"{mark(raw_ok)} RAW exists & readable | files={len(raw_files)} rows={raw_rows if raw_rows is not None else 'n/a'}\")\n",
    "print(f\"{mark(bronze_ok)} BRONZE Delta written | rows={bronze_rows if bronze_rows is not None else 'n/a'} @ {bronze_path}\")\n",
    "print(f\"{mark(silver_ok)} SILVER Delta written | rows={silver_rows if silver_rows is not None else 'n/a'} @ {silver_path}\")\n",
    "\n",
    "overall = raw_ok and bronze_ok and silver_ok\n",
    "print(\"\\nRESULT:\", \"✅ PASS\" if overall else \"❌ CHECK ABOVE\")\n",
    "if not overall:\n",
    "    if raw_err:    print(\"RAW error:\", raw_err)\n",
    "    if bronze_err: print(\"BRONZE error:\", bronze_err)\n",
    "    if silver_err: print(\"SILVER error:\", silver_err)\n"
   ]
  },
  {
   "cell_type": "code",
   "execution_count": 0,
   "metadata": {
    "application/vnd.databricks.v1+cell": {
     "cellMetadata": {},
     "inputWidgets": {},
     "nuid": "6751123e-18a1-45e1-9794-0842f0536ca2",
     "showTitle": false,
     "tableResultSettingsMap": {},
     "title": ""
    }
   },
   "outputs": [],
   "source": [
    "# ---- Data Quality (simple) ----\n",
    "from pyspark.sql import functions as F\n",
    "\n",
    "checks = {\n",
    "    \"trip_distance_positive\":  (F.col(\"distance\").cast(\"double\") > 0),\n",
    "    \"fare_nonnegative\":        (F.col(\"fare\").cast(\"double\") >= 0),\n",
    "    \"payment_type_allowed\":    (F.col(\"payment\").isin(\"cash\", \"credit\"))\n",
    "}\n",
    "\n",
    "violations = []\n",
    "for name, expr in checks.items():\n",
    "    cnt = raw_df.filter(~expr).count()\n",
    "    if cnt > 0:\n",
    "        violations.append((name, cnt))\n",
    "\n",
    "if violations:\n",
    "    msg = \"DQ failed: \" + \", \".join([f\"{n}={c}\" for n,c in violations])\n",
    "    raise Exception(msg)\n",
    "\n",
    "print(\"Data quality ✅ — all checks passed\")\n"
   ]
  },
  {
   "cell_type": "code",
   "execution_count": 0,
   "metadata": {
    "application/vnd.databricks.v1+cell": {
     "cellMetadata": {
      "byteLimit": 2048000,
      "rowLimit": 10000
     },
     "inputWidgets": {},
     "nuid": "17cfce41-23f7-4769-a96b-c770d7b977ef",
     "showTitle": false,
     "tableResultSettingsMap": {},
     "title": ""
    }
   },
   "outputs": [
    {
     "output_type": "stream",
     "name": "stdout",
     "output_type": "stream",
     "text": [
      "root\n |-- pickup: string (nullable = true)\n |-- dropoff: string (nullable = true)\n |-- passengers: string (nullable = true)\n |-- distance: string (nullable = true)\n |-- fare: string (nullable = true)\n |-- tip: string (nullable = true)\n |-- tolls: string (nullable = true)\n |-- total: string (nullable = true)\n |-- color: string (nullable = true)\n |-- payment: string (nullable = true)\n |-- pickup_zone: string (nullable = true)\n |-- dropoff_zone: string (nullable = true)\n |-- pickup_borough: string (nullable = true)\n |-- dropoff_borough: string (nullable = true)\n\n"
     ]
    },
    {
     "output_type": "display_data",
     "data": {
      "text/html": [
       "<style scoped>\n",
       "  .table-result-container {\n",
       "    max-height: 300px;\n",
       "    overflow: auto;\n",
       "  }\n",
       "  table, th, td {\n",
       "    border: 1px solid black;\n",
       "    border-collapse: collapse;\n",
       "  }\n",
       "  th, td {\n",
       "    padding: 5px;\n",
       "  }\n",
       "  th {\n",
       "    text-align: left;\n",
       "  }\n",
       "</style><div class='table-result-container'><table class='table-result'><thead style='background-color: white'><tr><th>pickup</th><th>dropoff</th><th>passengers</th><th>distance</th><th>fare</th><th>tip</th><th>tolls</th><th>total</th><th>color</th><th>payment</th><th>pickup_zone</th><th>dropoff_zone</th><th>pickup_borough</th><th>dropoff_borough</th></tr></thead><tbody><tr><td>2019-03-23 20:21:09</td><td>2019-03-23 20:27:24</td><td>1</td><td>1.6</td><td>7.0</td><td>2.15</td><td>0.0</td><td>12.95</td><td>yellow</td><td>credit card</td><td>Lenox Hill West</td><td>UN/Turtle Bay South</td><td>Manhattan</td><td>Manhattan</td></tr><tr><td>2019-03-04 16:11:55</td><td>2019-03-04 16:19:00</td><td>1</td><td>0.79</td><td>5.0</td><td>0.0</td><td>0.0</td><td>9.3</td><td>yellow</td><td>cash</td><td>Upper West Side South</td><td>Upper West Side South</td><td>Manhattan</td><td>Manhattan</td></tr><tr><td>2019-03-27 17:53:01</td><td>2019-03-27 18:00:25</td><td>1</td><td>1.37</td><td>7.5</td><td>2.36</td><td>0.0</td><td>14.16</td><td>yellow</td><td>credit card</td><td>Alphabet City</td><td>West Village</td><td>Manhattan</td><td>Manhattan</td></tr><tr><td>2019-03-10 01:23:59</td><td>2019-03-10 01:49:51</td><td>1</td><td>7.7</td><td>27.0</td><td>6.15</td><td>0.0</td><td>36.95</td><td>yellow</td><td>credit card</td><td>Hudson Sq</td><td>Yorkville West</td><td>Manhattan</td><td>Manhattan</td></tr><tr><td>2019-03-30 13:27:42</td><td>2019-03-30 13:37:14</td><td>3</td><td>2.16</td><td>9.0</td><td>1.1</td><td>0.0</td><td>13.4</td><td>yellow</td><td>credit card</td><td>Midtown East</td><td>Yorkville West</td><td>Manhattan</td><td>Manhattan</td></tr></tbody></table></div>"
      ]
     },
     "metadata": {
      "application/vnd.databricks.v1+output": {
       "addedWidgets": {},
       "aggData": [],
       "aggError": "",
       "aggOverflow": false,
       "aggSchema": [],
       "aggSeriesLimitReached": false,
       "aggType": "",
       "arguments": {},
       "columnCustomDisplayInfos": {},
       "data": [
        [
         "2019-03-23 20:21:09",
         "2019-03-23 20:27:24",
         "1",
         "1.6",
         "7.0",
         "2.15",
         "0.0",
         "12.95",
         "yellow",
         "credit card",
         "Lenox Hill West",
         "UN/Turtle Bay South",
         "Manhattan",
         "Manhattan"
        ],
        [
         "2019-03-04 16:11:55",
         "2019-03-04 16:19:00",
         "1",
         "0.79",
         "5.0",
         "0.0",
         "0.0",
         "9.3",
         "yellow",
         "cash",
         "Upper West Side South",
         "Upper West Side South",
         "Manhattan",
         "Manhattan"
        ],
        [
         "2019-03-27 17:53:01",
         "2019-03-27 18:00:25",
         "1",
         "1.37",
         "7.5",
         "2.36",
         "0.0",
         "14.16",
         "yellow",
         "credit card",
         "Alphabet City",
         "West Village",
         "Manhattan",
         "Manhattan"
        ],
        [
         "2019-03-10 01:23:59",
         "2019-03-10 01:49:51",
         "1",
         "7.7",
         "27.0",
         "6.15",
         "0.0",
         "36.95",
         "yellow",
         "credit card",
         "Hudson Sq",
         "Yorkville West",
         "Manhattan",
         "Manhattan"
        ],
        [
         "2019-03-30 13:27:42",
         "2019-03-30 13:37:14",
         "3",
         "2.16",
         "9.0",
         "1.1",
         "0.0",
         "13.4",
         "yellow",
         "credit card",
         "Midtown East",
         "Yorkville West",
         "Manhattan",
         "Manhattan"
        ]
       ],
       "datasetInfos": [],
       "dbfsResultPath": null,
       "isJsonSchema": true,
       "metadata": {},
       "overflow": false,
       "plotOptions": {
        "customPlotOptions": {},
        "displayType": "table",
        "pivotAggregation": null,
        "pivotColumns": null,
        "xColumns": null,
        "yColumns": null
       },
       "removedWidgets": [],
       "schema": [
        {
         "metadata": "{}",
         "name": "pickup",
         "type": "\"string\""
        },
        {
         "metadata": "{}",
         "name": "dropoff",
         "type": "\"string\""
        },
        {
         "metadata": "{}",
         "name": "passengers",
         "type": "\"string\""
        },
        {
         "metadata": "{}",
         "name": "distance",
         "type": "\"string\""
        },
        {
         "metadata": "{}",
         "name": "fare",
         "type": "\"string\""
        },
        {
         "metadata": "{}",
         "name": "tip",
         "type": "\"string\""
        },
        {
         "metadata": "{}",
         "name": "tolls",
         "type": "\"string\""
        },
        {
         "metadata": "{}",
         "name": "total",
         "type": "\"string\""
        },
        {
         "metadata": "{}",
         "name": "color",
         "type": "\"string\""
        },
        {
         "metadata": "{}",
         "name": "payment",
         "type": "\"string\""
        },
        {
         "metadata": "{}",
         "name": "pickup_zone",
         "type": "\"string\""
        },
        {
         "metadata": "{}",
         "name": "dropoff_zone",
         "type": "\"string\""
        },
        {
         "metadata": "{}",
         "name": "pickup_borough",
         "type": "\"string\""
        },
        {
         "metadata": "{}",
         "name": "dropoff_borough",
         "type": "\"string\""
        }
       ],
       "type": "table"
      }
     },
     "output_type": "display_data"
    },
    {
     "output_type": "stream",
     "name": "stdout",
     "output_type": "stream",
     "text": [
      "raw rows: 6433\n"
     ]
    }
   ],
   "source": [
    "raw_df = (spark.read.option(\"header\", True).csv(RAW_DIR + \"taxis_*.csv\"))\n",
    "raw_df.printSchema()\n",
    "display(raw_df.limit(5))\n",
    "print(\"raw rows:\", raw_df.count())\n"
   ]
  },
  {
   "cell_type": "code",
   "execution_count": 0,
   "metadata": {
    "application/vnd.databricks.v1+cell": {
     "cellMetadata": {
      "byteLimit": 2048000,
      "rowLimit": 10000
     },
     "inputWidgets": {},
     "nuid": "7e2b2240-a57a-4614-a869-5796904b5ab2",
     "showTitle": false,
     "tableResultSettingsMap": {},
     "title": ""
    }
   },
   "outputs": [
    {
     "output_type": "stream",
     "name": "stdout",
     "output_type": "stream",
     "text": [
      "bronze rows: 6433\n"
     ]
    },
    {
     "output_type": "display_data",
     "data": {
      "text/html": [
       "<style scoped>\n",
       "  .table-result-container {\n",
       "    max-height: 300px;\n",
       "    overflow: auto;\n",
       "  }\n",
       "  table, th, td {\n",
       "    border: 1px solid black;\n",
       "    border-collapse: collapse;\n",
       "  }\n",
       "  th, td {\n",
       "    padding: 5px;\n",
       "  }\n",
       "  th {\n",
       "    text-align: left;\n",
       "  }\n",
       "</style><div class='table-result-container'><table class='table-result'><thead style='background-color: white'><tr><th>path</th><th>name</th><th>size</th><th>modificationTime</th></tr></thead><tbody><tr><td>abfss://taxi@sttaxistorage.dfs.core.windows.net/delta/bronze/taxis/</td><td>taxis/</td><td>0</td><td>1756264337000</td></tr></tbody></table></div>"
      ]
     },
     "metadata": {
      "application/vnd.databricks.v1+output": {
       "addedWidgets": {},
       "aggData": [],
       "aggError": "",
       "aggOverflow": false,
       "aggSchema": [],
       "aggSeriesLimitReached": false,
       "aggType": "",
       "arguments": {},
       "columnCustomDisplayInfos": {},
       "data": [
        [
         "abfss://taxi@sttaxistorage.dfs.core.windows.net/delta/bronze/taxis/",
         "taxis/",
         0,
         1756264337000
        ]
       ],
       "datasetInfos": [],
       "dbfsResultPath": null,
       "isJsonSchema": true,
       "metadata": {},
       "overflow": false,
       "plotOptions": {
        "customPlotOptions": {},
        "displayType": "table",
        "pivotAggregation": null,
        "pivotColumns": null,
        "xColumns": null,
        "yColumns": null
       },
       "removedWidgets": [],
       "schema": [
        {
         "metadata": "{}",
         "name": "path",
         "type": "\"string\""
        },
        {
         "metadata": "{}",
         "name": "name",
         "type": "\"string\""
        },
        {
         "metadata": "{}",
         "name": "size",
         "type": "\"long\""
        },
        {
         "metadata": "{}",
         "name": "modificationTime",
         "type": "\"long\""
        }
       ],
       "type": "table"
      }
     },
     "output_type": "display_data"
    }
   ],
   "source": [
    "bronze_path = DELTA_BASE + \"bronze/taxis\"\n",
    "(raw_df.write.mode(\"overwrite\").format(\"delta\").save(bronze_path))\n",
    "\n",
    "print(\"bronze rows:\", spark.read.format(\"delta\").load(bronze_path).count())\n",
    "display(dbutils.fs.ls(DELTA_BASE + \"bronze\"))\n"
   ]
  },
  {
   "cell_type": "code",
   "execution_count": 0,
   "metadata": {
    "application/vnd.databricks.v1+cell": {
     "cellMetadata": {
      "byteLimit": 2048000,
      "rowLimit": 10000
     },
     "inputWidgets": {},
     "nuid": "536c79a2-a152-48cc-b1f5-a01a56c8f042",
     "showTitle": false,
     "tableResultSettingsMap": {},
     "title": ""
    }
   },
   "outputs": [
    {
     "output_type": "stream",
     "name": "stdout",
     "output_type": "stream",
     "text": [
      "silver rows: 6433\n"
     ]
    },
    {
     "output_type": "display_data",
     "data": {
      "text/html": [
       "<style scoped>\n",
       "  .table-result-container {\n",
       "    max-height: 300px;\n",
       "    overflow: auto;\n",
       "  }\n",
       "  table, th, td {\n",
       "    border: 1px solid black;\n",
       "    border-collapse: collapse;\n",
       "  }\n",
       "  th, td {\n",
       "    padding: 5px;\n",
       "  }\n",
       "  th {\n",
       "    text-align: left;\n",
       "  }\n",
       "</style><div class='table-result-container'><table class='table-result'><thead style='background-color: white'><tr><th>path</th><th>name</th><th>size</th><th>modificationTime</th></tr></thead><tbody><tr><td>abfss://taxi@sttaxistorage.dfs.core.windows.net/delta/silver/taxis/</td><td>taxis/</td><td>0</td><td>1756264369000</td></tr></tbody></table></div>"
      ]
     },
     "metadata": {
      "application/vnd.databricks.v1+output": {
       "addedWidgets": {},
       "aggData": [],
       "aggError": "",
       "aggOverflow": false,
       "aggSchema": [],
       "aggSeriesLimitReached": false,
       "aggType": "",
       "arguments": {},
       "columnCustomDisplayInfos": {},
       "data": [
        [
         "abfss://taxi@sttaxistorage.dfs.core.windows.net/delta/silver/taxis/",
         "taxis/",
         0,
         1756264369000
        ]
       ],
       "datasetInfos": [],
       "dbfsResultPath": null,
       "isJsonSchema": true,
       "metadata": {},
       "overflow": false,
       "plotOptions": {
        "customPlotOptions": {},
        "displayType": "table",
        "pivotAggregation": null,
        "pivotColumns": null,
        "xColumns": null,
        "yColumns": null
       },
       "removedWidgets": [],
       "schema": [
        {
         "metadata": "{}",
         "name": "path",
         "type": "\"string\""
        },
        {
         "metadata": "{}",
         "name": "name",
         "type": "\"string\""
        },
        {
         "metadata": "{}",
         "name": "size",
         "type": "\"long\""
        },
        {
         "metadata": "{}",
         "name": "modificationTime",
         "type": "\"long\""
        }
       ],
       "type": "table"
      }
     },
     "output_type": "display_data"
    }
   ],
   "source": [
    "from pyspark.sql import functions as F\n",
    "\n",
    "silver_df = (\n",
    "    raw_df.select(\n",
    "        F.col(\"pickup\").alias(\"pickup_ts\"),\n",
    "        F.col(\"dropoff\").alias(\"dropoff_ts\"),\n",
    "        F.col(\"distance\").cast(\"double\").alias(\"trip_distance\"),\n",
    "        F.col(\"fare\").cast(\"double\").alias(\"fare_amount\"),\n",
    "        F.col(\"tip\").cast(\"double\").alias(\"tip_amount\"),\n",
    "        F.col(\"tolls\").cast(\"double\").alias(\"tolls_amount\"),\n",
    "        F.when(F.col(\"payment\").isin(\"cash\",\"credit\"), F.initcap(\"payment\"))\n",
    "         .otherwise(F.lit(\"Other\")).alias(\"payment_type\")\n",
    "    )\n",
    "    .na.drop(subset=[\"trip_distance\",\"fare_amount\"])\n",
    ")\n",
    "\n",
    "silver_path = DELTA_BASE + \"silver/taxis\"\n",
    "(silver_df.write.mode(\"overwrite\").format(\"delta\").save(silver_path))\n",
    "\n",
    "print(\"silver rows:\", spark.read.format(\"delta\").load(silver_path).count())\n",
    "display(dbutils.fs.ls(DELTA_BASE + \"silver\"))\n"
   ]
  },
  {
   "cell_type": "code",
   "execution_count": 0,
   "metadata": {
    "application/vnd.databricks.v1+cell": {
     "cellMetadata": {
      "byteLimit": 2048000,
      "rowLimit": 10000
     },
     "inputWidgets": {},
     "nuid": "74882ff9-f429-4671-b7cf-b731a5ad44c1",
     "showTitle": false,
     "tableResultSettingsMap": {},
     "title": ""
    }
   },
   "outputs": [
    {
     "output_type": "stream",
     "name": "stdout",
     "output_type": "stream",
     "text": [
      "+-------+-------------------+---------------+-----------------------+---------+------------------------------------------------------------+----+------------------+--------------------+-----------+-----------------+-------------+-----------------------------------------------------------------------------------------------------------------+------------+-------------------------------------------------+\n|version|timestamp          |userId         |userName               |operation|operationParameters                                         |job |notebook          |clusterId           |readVersion|isolationLevel   |isBlindAppend|operationMetrics                                                                                                 |userMetadata|engineInfo                                       |\n+-------+-------------------+---------------+-----------------------+---------+------------------------------------------------------------+----+------------------+--------------------+-----------+-----------------+-------------+-----------------------------------------------------------------------------------------------------------------+------------+-------------------------------------------------+\n|2      |2025-08-27 03:39:54|148800299299847|sportsgroup3d@gmail.com|WRITE    |{mode -> Overwrite, statsOnLoad -> false, partitionBy -> []}|NULL|{4226464466327859}|0826-235901-rqv5jag2|1          |WriteSerializable|false        |{numFiles -> 1, numRemovedFiles -> 1, numRemovedBytes -> 183484, numOutputRows -> 6433, numOutputBytes -> 183484}|NULL        |Databricks-Runtime/16.4.x-cpu-ml-photon-scala2.12|\n|1      |2025-08-27 03:20:33|148800299299847|sportsgroup3d@gmail.com|WRITE    |{mode -> Overwrite, statsOnLoad -> false, partitionBy -> []}|NULL|{4226464466327859}|0826-235901-rqv5jag2|0          |WriteSerializable|false        |{numFiles -> 1, numRemovedFiles -> 1, numRemovedBytes -> 183484, numOutputRows -> 6433, numOutputBytes -> 183484}|NULL        |Databricks-Runtime/16.4.x-cpu-ml-photon-scala2.12|\n|0      |2025-08-27 03:12:35|148800299299847|sportsgroup3d@gmail.com|WRITE    |{mode -> Overwrite, statsOnLoad -> false, partitionBy -> []}|NULL|{4226464466327859}|0826-235901-rqv5jag2|NULL       |WriteSerializable|false        |{numFiles -> 1, numRemovedFiles -> 0, numRemovedBytes -> 0, numOutputRows -> 6433, numOutputBytes -> 183484}     |NULL        |Databricks-Runtime/16.4.x-cpu-ml-photon-scala2.12|\n+-------+-------------------+---------------+-----------------------+---------+------------------------------------------------------------+----+------------------+--------------------+-----------+-----------------+-------------+-----------------------------------------------------------------------------------------------------------------+------------+-------------------------------------------------+\n\n"
     ]
    }
   ],
   "source": [
    "spark.sql(f\"DESCRIBE HISTORY delta.`{bronze_path}`\").show(truncate=False)\n"
   ]
  },
  {
   "cell_type": "code",
   "execution_count": 0,
   "metadata": {
    "application/vnd.databricks.v1+cell": {
     "cellMetadata": {},
     "inputWidgets": {},
     "nuid": "524c285b-4885-4706-aec9-f1a15d874122",
     "showTitle": false,
     "tableResultSettingsMap": {},
     "title": ""
    }
   },
   "outputs": [],
   "source": [
    "%sql\n",
    "CREATE DATABASE IF NOT EXISTS default;\n",
    "\n",
    "CREATE TABLE IF NOT EXISTS hive_metastore.default.bronze_taxis\n",
    "USING DELTA\n",
    "LOCATION 'abfss://taxi@sttaxistorage.dfs.core.windows.net/delta/bronze/taxis';\n",
    "\n",
    "CREATE TABLE IF NOT EXISTS hive_metastore.default.silver_taxis\n",
    "USING DELTA\n",
    "LOCATION 'abfss://taxi@sttaxistorage.dfs.core.windows.net/delta/silver/taxis';\n"
   ]
  }
 ],
 "metadata": {
  "application/vnd.databricks.v1+notebook": {
   "computePreferences": null,
   "dashboards": [],
   "environmentMetadata": {
    "base_environment": "",
    "environment_version": "3"
   },
   "inputWidgetPreferences": null,
   "language": "python",
   "notebookMetadata": {
    "pythonIndentUnit": 4
   },
   "notebookName": "bronze_silver",
   "widgets": {}
  },
  "language_info": {
   "name": "python"
  }
 },
 "nbformat": 4,
 "nbformat_minor": 0
}